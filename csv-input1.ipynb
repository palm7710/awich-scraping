{
 "cells": [
  {
   "cell_type": "code",
   "execution_count": 81,
   "id": "d55b7e21",
   "metadata": {},
   "outputs": [
    {
     "ename": "KeyboardInterrupt",
     "evalue": "",
     "output_type": "error",
     "traceback": [
      "\u001b[0;31m---------------------------------------------------------------------------\u001b[0m",
      "\u001b[0;31mKeyboardInterrupt\u001b[0m                         Traceback (most recent call last)",
      "\u001b[0;32m<ipython-input-81-192e37dcc0bd>\u001b[0m in \u001b[0;36m<module>\u001b[0;34m\u001b[0m\n\u001b[1;32m     48\u001b[0m \u001b[0;34m\u001b[0m\u001b[0m\n\u001b[1;32m     49\u001b[0m     \u001b[0;31m# Uta-Netのサーバーに負荷を与えないように「2秒待機」\u001b[0m\u001b[0;34m\u001b[0m\u001b[0;34m\u001b[0m\u001b[0;34m\u001b[0m\u001b[0m\n\u001b[0;32m---> 50\u001b[0;31m     \u001b[0mtime\u001b[0m\u001b[0;34m.\u001b[0m\u001b[0msleep\u001b[0m\u001b[0;34m(\u001b[0m\u001b[0;36m2\u001b[0m\u001b[0;34m)\u001b[0m\u001b[0;34m\u001b[0m\u001b[0;34m\u001b[0m\u001b[0m\n\u001b[0m\u001b[1;32m     51\u001b[0m \u001b[0;34m\u001b[0m\u001b[0m\n\u001b[1;32m     52\u001b[0m \u001b[0;31m# csv出力 (UTF-8で書き込む)\u001b[0m\u001b[0;34m\u001b[0m\u001b[0;34m\u001b[0m\u001b[0;34m\u001b[0m\u001b[0m\n",
      "\u001b[0;31mKeyboardInterrupt\u001b[0m: "
     ]
    }
   ],
   "source": [
    "##歌詞ページより、曲名、歌詞、発売日、教示回数を取得##\n",
    "import requests\n",
    "from bs4 import BeautifulSoup\n",
    "import pandas as pd\n",
    "from datetime import datetime\n",
    "import time\n",
    "import re\n",
    "\n",
    "# 取得したデータを格納するデータフレームを作成\n",
    "Awich_songs_df = pd.DataFrame(columns=['song_name', 'lyrics', 'release_date', 'impression'])\n",
    "\n",
    "# Uta-Net先頭URL\n",
    "base_url = 'https://www.uta-net.com'\n",
    "# Awichの歌詞一覧ページURL\n",
    "url = 'https://www.uta-net.com/artist/23115/'\n",
    "\n",
    "# 歌詞一覧ページのHTML取得\n",
    "response = requests.get(url)\n",
    "soup = BeautifulSoup(response.text, 'lxml')\n",
    "links = soup.find_all('td', class_='sp-w-100 pt-0 pt-lg-2')\n",
    "\n",
    "# 歌詞ページより、情報を取得\n",
    "for link in links:\n",
    "    a = base_url + (link.a.get('href'))\n",
    "    \n",
    "    # 歌詞ページよりHTMLを取得\n",
    "    response_a = requests.get(a)\n",
    "    soup_a = BeautifulSoup(response_a.text, 'lxml')\n",
    "    \n",
    "    # 曲名取得\n",
    "    song_name = soup_a.find('h2').text\n",
    "    # 歌詞取得\n",
    "    song_lyric = soup_a.find('div', itemprop='lyrics').text.replace('\\n', '')\n",
    "    # 発売日取得\n",
    "    detail = soup_a.find('p', class_='detail').text\n",
    "    match = re.search(r'\\d{4}/\\d{2}/\\d{2}', detail)\n",
    "    release_date = datetime.strptime(match.group(), '%Y/%m/%d').date()\n",
    "    # 表示回数を取得\n",
    "    impression_text = soup_a.find('p', string=re.compile(r'この曲の表示回数:'))\n",
    "    if impression_text:\n",
    "        impression = re.search(r'(\\d+)回', impression_text.text).group(1)\n",
    "    else:\n",
    "        impression = '情報なし'\n",
    "    \n",
    "    # 取得したデータフレームに追加\n",
    "    temp_df = pd.DataFrame([[song_name, song_lyric, release_date, impression]], columns=Awich_songs_df.columns)\n",
    "    Awich_songs_df = pd.concat([Awich_songs_df, temp_df], ignore_index=True)\n",
    "    \n",
    "    # Uta-Netのサーバーに負荷を与えないように「2秒待機」\n",
    "    time.sleep(2)\n",
    "\n",
    "# csv出力 (UTF-8で書き込む)\n",
    "Awich_songs_df.to_csv('Awich_songs_df.csv', encoding='cp932', errors=\"ignore\")\n"
   ]
  }
 ],
 "metadata": {
  "kernelspec": {
   "display_name": "Python 3",
   "language": "python",
   "name": "python3"
  },
  "language_info": {
   "codemirror_mode": {
    "name": "ipython",
    "version": 3
   },
   "file_extension": ".py",
   "mimetype": "text/x-python",
   "name": "python",
   "nbconvert_exporter": "python",
   "pygments_lexer": "ipython3",
   "version": "3.8.8"
  }
 },
 "nbformat": 4,
 "nbformat_minor": 5
}
